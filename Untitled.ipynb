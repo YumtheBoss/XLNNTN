{
 "cells": [
  {
   "cell_type": "code",
   "execution_count": null,
   "id": "b9bbf770-e3b7-4526-8d04-9e7daf1a5c9e",
   "metadata": {},
   "outputs": [
    {
     "name": "stdout",
     "output_type": "stream",
     "text": [
      "Chatbot sẵn sàng! Nhập 'thoát' hoặc 'exit' để kết thúc.\n"
     ]
    },
    {
     "name": "stdin",
     "output_type": "stream",
     "text": [
      "Bạn:  Bạn có thể giúp gì\n"
     ]
    },
    {
     "name": "stdout",
     "output_type": "stream",
     "text": [
      "Bot: Tôi có thể giúp gì?\n"
     ]
    },
    {
     "name": "stdin",
     "output_type": "stream",
     "text": [
      "Bạn:  Tôi muốn tìm hiểu về dịch vụ \n"
     ]
    },
    {
     "name": "stdout",
     "output_type": "stream",
     "text": [
      "Bot: Dịch vụ của chúng tôi bao gồm rất nhiều tính năng hữu ích.\n"
     ]
    },
    {
     "name": "stdin",
     "output_type": "stream",
     "text": [
      "Bạn:  Bạn có thể cho tôi thêm thông tin \n"
     ]
    },
    {
     "name": "stdout",
     "output_type": "stream",
     "text": [
      "Bot: Tôi có thể giúp gì?\n"
     ]
    },
    {
     "name": "stdin",
     "output_type": "stream",
     "text": [
      "Bạn:  Bạn có thể cho tôi thêm thông tin?\n"
     ]
    },
    {
     "name": "stdout",
     "output_type": "stream",
     "text": [
      "Bot: Tôi có thể giúp gì?\n"
     ]
    }
   ],
   "source": [
    "from gensim.models import Word2Vec\n",
    "import numpy as np\n",
    "from scipy.spatial.distance import cosine\n",
    "import re\n",
    "\n",
    "# Dữ liệu hội thoại mẫu\n",
    "data = [\n",
    "    \"Xin chào\", \n",
    "    \"Bạn có thể giúp gì?\", \n",
    "    \"Tôi muốn tìm hiểu thêm về dịch vụ\",\n",
    "    \"Dịch vụ của chúng tôi bao gồm...\",\n",
    "    \"Bạn có thể cho tôi biết thêm thông tin?\",\n",
    "    \"Cảm ơn, tạm biệt!\"\n",
    "]\n",
    "\n",
    "# Hàm tách từ (tokenize) đơn giản không sử dụng nltk\n",
    "def simple_tokenize(sentence):\n",
    "    # Chuyển tất cả về chữ thường và tách từ bằng các ký tự không phải chữ cái\n",
    "    return re.findall(r'\\b\\w+\\b', sentence.lower())\n",
    "\n",
    "# Chuẩn bị dữ liệu đầu vào\n",
    "tokenized_sentences = [simple_tokenize(sentence) for sentence in data]\n",
    "\n",
    "# Huấn luyện mô hình Word2Vec\n",
    "model = Word2Vec(tokenized_sentences, vector_size=100, window=5, min_count=1, sg=1)\n",
    "\n",
    "# Hàm tính vector trung bình của câu\n",
    "def sentence_vector(sentence, model):\n",
    "    words = simple_tokenize(sentence)\n",
    "    vectors = [model.wv[word] for word in words if word in model.wv]\n",
    "    return np.mean(vectors, axis=0) if vectors else np.zeros(model.vector_size)\n",
    "\n",
    "# Hàm tìm câu trả lời tốt nhất\n",
    "def find_best_response(user_input, responses, model):\n",
    "    user_vec = sentence_vector(user_input, model)\n",
    "    best_response = None\n",
    "    best_similarity = float('inf')\n",
    "\n",
    "    for response in responses:\n",
    "        response_vec = sentence_vector(response, model)\n",
    "        similarity = cosine(user_vec, response_vec)\n",
    "        if similarity < best_similarity:\n",
    "            best_similarity = similarity\n",
    "            best_response = response\n",
    "\n",
    "    return best_response\n",
    "\n",
    "# Danh sách câu trả lời mẫu\n",
    "responses = [\n",
    "    \"Chào bạn!\", \n",
    "    \"Tôi có thể giúp gì?\", \n",
    "    \"Dịch vụ của chúng tôi bao gồm rất nhiều tính năng hữu ích.\", \n",
    "    \"Rất vui được hỗ trợ bạn!\",\n",
    "    \"Cảm ơn bạn, hẹn gặp lại!\"\n",
    "]\n",
    "\n",
    "# Hàm tương tác với chatbot\n",
    "def chatbot():\n",
    "    print(\"Chatbot sẵn sàng! Nhập 'thoát' hoặc 'exit' để kết thúc.\")\n",
    "    while True:\n",
    "        user_input = input(\"Bạn: \")\n",
    "        if user_input.lower() in ['thoát', 'exit']:\n",
    "            print(\"Bot: Tạm biệt!\")\n",
    "            break\n",
    "        response = find_best_response(user_input, responses, model)\n",
    "        print(\"Bot:\", response)\n",
    "\n",
    "# Khởi chạy chatbot\n",
    "chatbot()\n"
   ]
  },
  {
   "cell_type": "code",
   "execution_count": null,
   "id": "cbdfd3af-6333-4e28-bfa8-7613b3b97d1a",
   "metadata": {},
   "outputs": [],
   "source": []
  }
 ],
 "metadata": {
  "kernelspec": {
   "display_name": "Python 3 (ipykernel)",
   "language": "python",
   "name": "python3"
  },
  "language_info": {
   "codemirror_mode": {
    "name": "ipython",
    "version": 3
   },
   "file_extension": ".py",
   "mimetype": "text/x-python",
   "name": "python",
   "nbconvert_exporter": "python",
   "pygments_lexer": "ipython3",
   "version": "3.12.7"
  }
 },
 "nbformat": 4,
 "nbformat_minor": 5
}
